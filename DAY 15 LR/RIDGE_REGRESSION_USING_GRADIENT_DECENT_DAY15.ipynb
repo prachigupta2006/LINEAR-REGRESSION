{
  "cells": [
    {
      "cell_type": "code",
      "execution_count": 22,
      "metadata": {
        "id": "tKhsf5ENRQ0l"
      },
      "outputs": [],
      "source": [
        "import numpy as np\n",
        "import pandas as pd\n",
        "import matplotlib.pyplot as plt\n",
        "import seaborn as sns\n",
        "\n",
        "import scipy.stats as stats\n",
        "\n",
        "from sklearn.model_selection import train_test_split\n",
        "from sklearn.metrics import accuracy_score\n",
        "from sklearn.model_selection import cross_val_score\n",
        "\n",
        "from sklearn.preprocessing import KBinsDiscretizer\n",
        "from sklearn.linear_model import LinearRegression\n",
        "from sklearn.tree import DecisionTreeClassifier\n",
        "\n",
        "from sklearn.preprocessing import FunctionTransformer\n",
        "from sklearn.compose import ColumnTransformer\n",
        "from sklearn.metrics import r2_score\n",
        "from sklearn.datasets import load_diabetes"
      ]
    },
    {
      "cell_type": "code",
      "execution_count": 23,
      "metadata": {
        "id": "3ldvaBxjgtP1"
      },
      "outputs": [],
      "source": [
        "X,y = load_diabetes(return_X_y=True)"
      ]
    },
    {
      "cell_type": "code",
      "source": [
        "x_train,x_test,y_train,y_test = train_test_split(X,y,test_size=0.2,random_state=13)"
      ],
      "metadata": {
        "id": "gm495-RcKtGk"
      },
      "execution_count": 24,
      "outputs": []
    },
    {
      "cell_type": "code",
      "source": [
        "from sklearn.linear_model import SGDRegressor"
      ],
      "metadata": {
        "id": "5HKV4f-DoPzH"
      },
      "execution_count": 40,
      "outputs": []
    },
    {
      "cell_type": "code",
      "source": [
        "reg = SGDRegressor(penalty='l2',max_iter=500,eta0=0.1,learning_rate='constant',alpha=0.001)"
      ],
      "metadata": {
        "id": "dXGvYBBan33f"
      },
      "execution_count": 41,
      "outputs": []
    },
    {
      "cell_type": "markdown",
      "source": [
        "penalty = type of regressor we use (l2= ridge regrssor)\n",
        "\n",
        "\n",
        "\n",
        "max_iter = no. of iterations we will use.\n",
        "\n",
        "\n",
        "eta0 = leaning rate value\n",
        "\n",
        "\n",
        "\n",
        "\n",
        "\n",
        "learning rate = constant means that it should in what type of temprament\n",
        "\n",
        "\n",
        "alpha = lambda laue at which the formula will apply ."
      ],
      "metadata": {
        "id": "iNFCdwdXx86f"
      }
    },
    {
      "cell_type": "code",
      "source": [
        "reg.fit(x_train,y_train)\n",
        "\n",
        "y_pred = reg.predict(x_test)\n",
        "print(\"r2score =\",r2_score(y_test,y_pred))\n",
        "print(reg.coef_)\n",
        "print(reg.intercept_)\n"
      ],
      "metadata": {
        "colab": {
          "base_uri": "https://localhost:8080/"
        },
        "id": "XwoHNR4wIR7G",
        "outputId": "38a67afc-3aab-4074-c633-23d13a5ad8ad"
      },
      "execution_count": 43,
      "outputs": [
        {
          "output_type": "stream",
          "name": "stdout",
          "text": [
            "r2score = 0.4117496459241303\n",
            "[  17.3060998  -132.58846872  424.19996604  250.00419644   -7.15298924\n",
            "  -56.847956   -177.85396928  125.97914221  317.78141914  148.23411274]\n",
            "[158.06310797]\n"
          ]
        }
      ]
    },
    {
      "cell_type": "code",
      "source": [
        "from sklearn.linear_model import Ridge\n",
        "\n",
        "re = Ridge(alpha=0.001,max_iter=500,solver = 'sparse_cg')"
      ],
      "metadata": {
        "id": "WYAWWhR2pI4t"
      },
      "execution_count": 44,
      "outputs": []
    },
    {
      "cell_type": "code",
      "source": [
        "re.fit(x_train,y_train)\n",
        "y_pred = re.predict(x_test)\n",
        "print('R2Score',r2_score(y_test,y_pred))\n",
        "print(re.coef_)\n",
        "print(re.intercept_)"
      ],
      "metadata": {
        "colab": {
          "base_uri": "https://localhost:8080/"
        },
        "id": "51h4fY0lLP0c",
        "outputId": "28e0c8f5-d428-45ad-a0d6-a985fd835df2"
      },
      "execution_count": 46,
      "outputs": [
        {
          "output_type": "stream",
          "name": "stdout",
          "text": [
            "R2Score 0.365808295279593\n",
            "[ -16.78271492 -247.85463693  578.77675814  315.47565987 -492.53114042\n",
            "  229.71248486  -52.47665778  111.34922582  664.47279485  108.51171141]\n",
            "150.24625886117605\n"
          ]
        }
      ]
    },
    {
      "cell_type": "code",
      "source": [
        "class MeraRidgeGD:\n",
        "\n",
        "  def __init__(self,epochs,learning_rate,alpha):\n",
        "\n",
        "      self.learning_rate = learning_rate\n",
        "      self.epochs= epochs\n",
        "      self.alpha = alpha\n",
        "      self.m = None\n",
        "      self.b = None\n",
        "\n",
        "  def fit(self,x_train,y_train):\n",
        "\n",
        "      self.coef_ = np.ones(x_train.shape[1])\n",
        "      self.intercept_ = 0\n",
        "      theta =np.insert(self.coef_,0,self.intercept_)\n",
        "\n",
        "      x_train = np.insert(x_train,0,1,axis=1)\n",
        "\n",
        "      for i in range(self.epochs):\n",
        "            theta_der = np.dot(x_train.T,x_train).dot(theta) - np.dot(x_train.T,y_train) + self.alpha*theta\n",
        "            theta = theta - self.learning_rate * theta_der\n",
        "\n",
        "      self.coef_=theta[1:]     #first value of theta is b0 hat is intercept and the rest of it is b1,b2,b3....bn (changed value of weights)\n",
        "      self.intercept_ = theta[0]\n",
        "\n",
        "  def predict(self,x_test):\n",
        "\n",
        "      return np.dot(x_test,self.coef_)+ self.intercept_"
      ],
      "metadata": {
        "id": "mezJto5VuAuk"
      },
      "execution_count": 65,
      "outputs": []
    },
    {
      "cell_type": "code",
      "source": [
        "ree = MeraRidgeGD(epochs= 500,alpha=0.001,learning_rate=0.005)\n",
        "ree.fit(x_train,y_train)\n",
        "y_pred1 = ree.predict(x_test)\n",
        "print(r2_score(y_test,y_pred1))\n",
        "print(ree.coef_)\n",
        "print(ree.intercept_)"
      ],
      "metadata": {
        "colab": {
          "base_uri": "https://localhost:8080/"
        },
        "id": "hZFx6CqFPH4c",
        "outputId": "bc59a034-2f4f-4ff8-bd77-e344720876e6"
      },
      "execution_count": 66,
      "outputs": [
        {
          "output_type": "stream",
          "name": "stdout",
          "text": [
            "0.3725295311377427\n",
            "[  -0.71874189 -194.95261746  526.06431734  305.64676991  -36.03327624\n",
            " -102.58033152 -209.90823525  127.79856819  395.21590212  155.40837888]\n",
            "150.2703428497419\n"
          ]
        }
      ]
    },
    {
      "cell_type": "markdown",
      "source": [
        "when learning rate is changed to 0.1\n",
        "\n",
        "and alpha is changed to 0.002\n",
        "\n",
        "epochs is changed to 510"
      ],
      "metadata": {
        "id": "xCrS74Ta0fYL"
      }
    },
    {
      "cell_type": "code",
      "source": [
        "ree = MeraRidgeGD(epochs= 510,alpha=0.1,learning_rate=0.002)\n",
        "ree.fit(x_train,y_train)\n",
        "y_pred2 = ree.predict(x_test)\n",
        "print(r2_score(y_test,y_pred2))\n",
        "print(ree.coef_)\n",
        "print(ree.intercept_)"
      ],
      "metadata": {
        "colab": {
          "base_uri": "https://localhost:8080/"
        },
        "id": "1MYiChp-SUnW",
        "outputId": "6efc7263-bce3-4580-f10d-108f7b45d832"
      },
      "execution_count": 73,
      "outputs": [
        {
          "output_type": "stream",
          "name": "stdout",
          "text": [
            "0.38167677270552625\n",
            "[  33.11650589  -82.17456161  371.52492661  237.31726058   21.13119749\n",
            "  -17.2906181  -172.68208218  142.35865039  286.44711877  162.55275758]\n",
            "150.14120257488926\n"
          ]
        }
      ]
    },
    {
      "cell_type": "markdown",
      "source": [
        "when learning rate is changed to 0.001\n",
        "\n",
        "and alpha is changed to 1\n",
        "\n",
        "epochs is changed to 200"
      ],
      "metadata": {
        "id": "4mfCI-xd0x6H"
      }
    },
    {
      "cell_type": "code",
      "source": [
        "ree = MeraRidgeGD(epochs= 200,alpha=1,learning_rate=0.001)\n",
        "ree.fit(x_train,y_train)\n",
        "y_pred2 = ree.predict(x_test)\n",
        "print(r2_score(y_test,y_pred2))\n",
        "print(ree.coef_)\n",
        "print(ree.intercept_)"
      ],
      "metadata": {
        "colab": {
          "base_uri": "https://localhost:8080/"
        },
        "id": "pzNxzfwVSUTz",
        "outputId": "183a7c12-9f5f-4c6f-809d-3072be92475e"
      },
      "execution_count": 74,
      "outputs": [
        {
          "output_type": "stream",
          "name": "stdout",
          "text": [
            "0.2541755083805468\n",
            "[ 29.1684302   -0.96461184 122.78358906  86.61750712  36.83881846\n",
            "  27.87179949 -68.22742522  75.83537333 105.86801394  75.30618233]\n",
            "150.53623037447292\n"
          ]
        }
      ]
    },
    {
      "cell_type": "markdown",
      "source": [
        "when learning rate is changed to 0.006\n",
        "\n",
        "and alpha is changed to 2\n",
        "\n",
        "epochs is changed to 300"
      ],
      "metadata": {
        "id": "Y5AMHvjj1JUK"
      }
    },
    {
      "cell_type": "code",
      "source": [
        "ree = MeraRidgeGD(epochs= 300,alpha=2,learning_rate=0.006)\n",
        "ree.fit(x_train,y_train)\n",
        "y_pred2 = ree.predict(x_test)\n",
        "print(r2_score(y_test,y_pred2))\n",
        "print(ree.coef_)\n",
        "print(ree.intercept_)"
      ],
      "metadata": {
        "colab": {
          "base_uri": "https://localhost:8080/"
        },
        "id": "Z6Cx7MlSSUJK",
        "outputId": "e72b6822-ffc2-4c50-e383-7cb2ede7854b"
      },
      "execution_count": 75,
      "outputs": [
        {
          "output_type": "stream",
          "name": "stdout",
          "text": [
            "-3.43377202439352e+32\n",
            "[ 1.11265731e+15  8.08691103e+14 -1.95314645e+15  8.77427580e+13\n",
            " -4.98061974e+15 -5.23900530e+15  2.92410750e+14 -2.77715993e+15\n",
            " -2.19727425e+15 -2.09167554e+15]\n",
            "-1.2978928531805957e+18\n"
          ]
        }
      ]
    }
  ],
  "metadata": {
    "colab": {
      "provenance": []
    },
    "kernelspec": {
      "display_name": "Python 3",
      "name": "python3"
    },
    "language_info": {
      "name": "python"
    }
  },
  "nbformat": 4,
  "nbformat_minor": 0
}